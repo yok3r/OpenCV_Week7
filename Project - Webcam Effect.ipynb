{
 "cells": [
  {
   "cell_type": "markdown",
   "metadata": {},
   "source": [
    "## Importar una imatge, identificar el numero i printarlo"
   ]
  },
  {
   "cell_type": "code",
   "execution_count": 1,
   "metadata": {},
   "outputs": [],
   "source": [
    "import cv2\n",
    "import numpy as np\n",
    "import matplotlib.pyplot as plt\n",
    "%matplotlib inline\n",
    "\n",
    "\n"
   ]
  },
  {
   "cell_type": "markdown",
   "metadata": {},
   "source": [
    "## Helper functions"
   ]
  },
  {
   "cell_type": "code",
   "execution_count": 2,
   "metadata": {},
   "outputs": [],
   "source": [
    "def showImg(img,title = '',plot=True,figs=(5,5)):\n",
    "    img_rgb = cv2.cvtColor(img,cv2.COLOR_BGR2RGB) \n",
    "    if plot:\n",
    "        plt.figure(figsize=figs)\n",
    "        plt.title(title)\n",
    "        plt.imshow(img_rgb)\n",
    "    return img_rgb\n",
    "    \n",
    "def showGrayScaleImg(img,title = '',figs=(5,5)):\n",
    "    plt.figure(figsize= figs)\n",
    "    plt.title(title)\n",
    "    plt.imshow(img,cmap='gray')"
   ]
  },
  {
   "cell_type": "markdown",
   "metadata": {},
   "source": [
    "### Fem una funció que modifiqui la imatge"
   ]
  },
  {
   "cell_type": "code",
   "execution_count": 3,
   "metadata": {},
   "outputs": [],
   "source": [
    "def lineimage(image):\n",
    "    return None;"
   ]
  },
  {
   "cell_type": "markdown",
   "metadata": {},
   "source": [
    "### Capturem de la webcam"
   ]
  },
  {
   "cell_type": "code",
   "execution_count": 4,
   "metadata": {},
   "outputs": [
    {
     "data": {
      "text/plain": [
       "-1"
      ]
     },
     "execution_count": 4,
     "metadata": {},
     "output_type": "execute_result"
    }
   ],
   "source": [
    "cap = cv2.VideoCapture(0)\n",
    "\n",
    "while (True):\n",
    "   #Capture frame by frame\n",
    "    ret, frame = cap.read()\n",
    "    reduction = 2\n",
    "    frame = cv2.resize(frame,(int(1280/reduction),int(720/reduction)))\n",
    "   # Dupliquem la imatge per posarla de fons\n",
    "\n",
    "    overlay = frame.copy()\n",
    "    opacity = 0.2\n",
    "   # Operations here\n",
    "    \n",
    "    img = cv2.cvtColor(frame, cv2.COLOR_BGR2GRAY)\n",
    "    th2 = cv2.adaptiveThreshold(img, 255,cv2.ADAPTIVE_THRESH_MEAN_C,cv2.THRESH_BINARY,27,10)\n",
    "    th2 = cv2.cvtColor(th2, cv2.COLOR_GRAY2RGB)\n",
    "    \n",
    "    image = th2.copy()\n",
    "    \n",
    "    #print(image.shape, overlay.shape)\n",
    "    \n",
    "    cv2.addWeighted(image,opacity,overlay, 1 - opacity,0,overlay)\n",
    "    \n",
    "    # Display\n",
    "    cv2.imshow(\"Press q to quit\", overlay)\n",
    "    if cv2.waitKey(1) & 0xFF == ord(\"q\"):\n",
    "        cv2.destroyAllWindows()\n",
    "        break\n",
    "        \n",
    "# release the capture\n",
    "cv2.waitKey(0) \n",
    "cap.release()\n",
    "cv2.destroyAllWindows()\n",
    "cv2.waitKey(1) "
   ]
  },
  {
   "cell_type": "code",
   "execution_count": null,
   "metadata": {},
   "outputs": [],
   "source": []
  },
  {
   "cell_type": "code",
   "execution_count": null,
   "metadata": {},
   "outputs": [],
   "source": []
  }
 ],
 "metadata": {
  "kernelspec": {
   "display_name": "Python 3",
   "language": "python",
   "name": "python3"
  },
  "language_info": {
   "codemirror_mode": {
    "name": "ipython",
    "version": 3
   },
   "file_extension": ".py",
   "mimetype": "text/x-python",
   "name": "python",
   "nbconvert_exporter": "python",
   "pygments_lexer": "ipython3",
   "version": "3.7.4"
  }
 },
 "nbformat": 4,
 "nbformat_minor": 2
}
